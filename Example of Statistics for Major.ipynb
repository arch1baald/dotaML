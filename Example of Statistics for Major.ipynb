{
 "cells": [
  {
   "cell_type": "markdown",
   "metadata": {},
   "source": [
    "# Простейшие примеры построения описательных статистик"
   ]
  },
  {
   "cell_type": "code",
   "execution_count": 1,
   "metadata": {
    "collapsed": true
   },
   "outputs": [],
   "source": [
    "import urllib2\n",
    "import json\n",
    "import random\n",
    "import datetime\n",
    "\n",
    "import math \n",
    "import pandas as pd \n",
    "import numpy as np \n",
    "import sklearn \n",
    "import matplotlib.pyplot as plt \n",
    "from sklearn import svm, datasets \n",
    "%matplotlib inline\n",
    "plt.style.use('ggplot')"
   ]
  },
  {
   "cell_type": "code",
   "execution_count": 4,
   "metadata": {},
   "outputs": [],
   "source": [
    "df = pd.DataFrame.from_csv('StatsForMajor.csv', sep = ';')"
   ]
  },
  {
   "cell_type": "markdown",
   "metadata": {},
   "source": [
    "# Атрибутивный состав таблицы"
   ]
  },
  {
   "cell_type": "code",
   "execution_count": 11,
   "metadata": {},
   "outputs": [
    {
     "name": "stdout",
     "output_type": "stream",
     "text": [
      "account_id\n",
      "assists\n",
      "attack_type_x\n",
      "camps_stacked\n",
      "cluster\n",
      "creeps_stacked\n",
      "deaths\n",
      "duration\n",
      "first_blood_time\n",
      "gold_per_min\n",
      "gold_spent\n",
      "hero_damage\n",
      "hero_healing\n",
      "hero_id\n",
      "leagueid\n",
      "leaguename\n",
      "localized_name_x\n",
      "match_id\n",
      "player_slot\n",
      "primary_attr_x\n",
      "start_time\n",
      "stuns\n",
      "t_experience_cnt_10\n",
      "t_experience_cnt_12\n",
      "t_experience_cnt_15\n",
      "t_experience_cnt_20\n",
      "t_experience_cnt_25\n",
      "t_experience_cnt_3\n",
      "t_experience_cnt_30\n",
      "t_experience_cnt_5\n",
      "t_experience_cnt_8\n",
      "t_gold_cnt_10\n",
      "t_gold_cnt_12\n",
      "t_gold_cnt_15\n",
      "t_gold_cnt_20\n",
      "t_gold_cnt_25\n",
      "t_gold_cnt_3\n",
      "t_gold_cnt_30\n",
      "t_gold_cnt_5\n",
      "t_gold_cnt_8\n",
      "t_lasthits_cnt_10\n",
      "t_lasthits_cnt_12\n",
      "t_lasthits_cnt_15\n",
      "t_lasthits_cnt_20\n",
      "t_lasthits_cnt_25\n",
      "t_lasthits_cnt_3\n",
      "t_lasthits_cnt_30\n",
      "t_lasthits_cnt_5\n",
      "t_lasthits_cnt_8\n",
      "team_id\n",
      "tower_damage\n",
      "win\n",
      "xp_per_min\n",
      "id_x\n",
      "datetime\n",
      "t_item_aether_lens\n",
      "t_item_arcane_boots\n",
      "t_item_black_king_bar\n",
      "t_item_blade_mail\n",
      "t_item_blink\n",
      "t_item_boots\n",
      "t_item_bottle\n",
      "t_item_desolator\n",
      "t_item_echo_sabre\n",
      "t_item_force_staff\n",
      "t_item_hand_of_midas\n",
      "t_item_hurricane_pike\n",
      "t_item_invis_sword\n",
      "t_item_magic_wand\n",
      "t_item_manta\n",
      "t_item_phase_boots\n",
      "t_item_power_treads\n",
      "t_item_ring_of_aquila\n",
      "t_item_silver_edge\n",
      "t_item_sphere\n",
      "t_item_tranquil_boots\n",
      "t_item_travel_boots\n",
      "t_item_ultimate_scepter\n",
      "t_item_wind_lace\n",
      "t_first_kill\n",
      "t_sen_cnt_5\n",
      "t_sen_cnt_10\n",
      "t_sen_cnt_12\n",
      "t_sen_cnt_15\n",
      "t_sen_cnt_25\n",
      "t_sen_cnt_3\n",
      "t_sen_cnt_20\n",
      "t_sen_cnt_30\n",
      "t_sen_cnt_8\n",
      "t_obs_cnt_15\n",
      "t_obs_cnt_8\n",
      "t_obs_cnt_25\n",
      "t_obs_cnt_10\n",
      "t_obs_cnt_12\n",
      "t_obs_cnt_20\n",
      "t_obs_cnt_3\n",
      "t_obs_cnt_5\n",
      "t_obs_cnt_30\n",
      "t_runes_cnt_3\n",
      "t_runes_cnt_10\n",
      "t_runes_cnt_12\n",
      "t_runes_cnt_5\n",
      "t_runes_cnt_15\n",
      "t_runes_cnt_20\n",
      "t_runes_cnt_8\n",
      "t_runes_cnt_30\n",
      "t_runes_cnt_25\n",
      "t_buyback_cnt_3\n",
      "t_buyback_cnt_10\n",
      "t_buyback_cnt_12\n",
      "t_buyback_cnt_5\n",
      "t_buyback_cnt_25\n",
      "t_buyback_cnt_15\n",
      "t_buyback_cnt_8\n",
      "t_buyback_cnt_30\n",
      "t_buyback_cnt_20\n",
      "Carry\n",
      "Disabler\n",
      "Durable\n",
      "Escape\n",
      "Initiator\n",
      "Jungler\n",
      "Nuker\n",
      "Pusher\n",
      "Support\n",
      "attack_type_y\n",
      "id_y\n",
      "localized_name_y\n",
      "primary_attr_y\n",
      "pro_ban\n",
      "pro_pick\n",
      "pro_win\n"
     ]
    }
   ],
   "source": [
    "for col in list(df):\n",
    "    print col"
   ]
  },
  {
   "cell_type": "code",
   "execution_count": 7,
   "metadata": {},
   "outputs": [
    {
     "data": {
      "text/plain": [
       "(10253, 132)"
      ]
     },
     "execution_count": 7,
     "metadata": {},
     "output_type": "execute_result"
    }
   ],
   "source": [
    "df.shape"
   ]
  },
  {
   "cell_type": "code",
   "execution_count": 5,
   "metadata": {},
   "outputs": [
    {
     "data": {
      "text/html": [
       "<div>\n",
       "<table border=\"1\" class=\"dataframe\">\n",
       "  <thead>\n",
       "    <tr style=\"text-align: right;\">\n",
       "      <th></th>\n",
       "      <th>account_id</th>\n",
       "      <th>assists</th>\n",
       "      <th>attack_type_x</th>\n",
       "      <th>camps_stacked</th>\n",
       "      <th>cluster</th>\n",
       "      <th>creeps_stacked</th>\n",
       "      <th>deaths</th>\n",
       "      <th>duration</th>\n",
       "      <th>first_blood_time</th>\n",
       "      <th>gold_per_min</th>\n",
       "      <th>...</th>\n",
       "      <th>Nuker</th>\n",
       "      <th>Pusher</th>\n",
       "      <th>Support</th>\n",
       "      <th>attack_type_y</th>\n",
       "      <th>id_y</th>\n",
       "      <th>localized_name_y</th>\n",
       "      <th>primary_attr_y</th>\n",
       "      <th>pro_ban</th>\n",
       "      <th>pro_pick</th>\n",
       "      <th>pro_win</th>\n",
       "    </tr>\n",
       "  </thead>\n",
       "  <tbody>\n",
       "    <tr>\n",
       "      <th>0</th>\n",
       "      <td>88553213</td>\n",
       "      <td>16</td>\n",
       "      <td>Ranged</td>\n",
       "      <td>0.0</td>\n",
       "      <td>224</td>\n",
       "      <td>0.0</td>\n",
       "      <td>3</td>\n",
       "      <td>2983</td>\n",
       "      <td>4</td>\n",
       "      <td>270</td>\n",
       "      <td>...</td>\n",
       "      <td>0</td>\n",
       "      <td>1</td>\n",
       "      <td>1</td>\n",
       "      <td>Ranged</td>\n",
       "      <td>58</td>\n",
       "      <td>Enchantress</td>\n",
       "      <td>int</td>\n",
       "      <td>9.0</td>\n",
       "      <td>14.0</td>\n",
       "      <td>4.0</td>\n",
       "    </tr>\n",
       "    <tr>\n",
       "      <th>1</th>\n",
       "      <td>106809101</td>\n",
       "      <td>8</td>\n",
       "      <td>Ranged</td>\n",
       "      <td>0.0</td>\n",
       "      <td>138</td>\n",
       "      <td>0.0</td>\n",
       "      <td>5</td>\n",
       "      <td>2398</td>\n",
       "      <td>116</td>\n",
       "      <td>371</td>\n",
       "      <td>...</td>\n",
       "      <td>0</td>\n",
       "      <td>1</td>\n",
       "      <td>1</td>\n",
       "      <td>Ranged</td>\n",
       "      <td>58</td>\n",
       "      <td>Enchantress</td>\n",
       "      <td>int</td>\n",
       "      <td>9.0</td>\n",
       "      <td>14.0</td>\n",
       "      <td>4.0</td>\n",
       "    </tr>\n",
       "    <tr>\n",
       "      <th>2</th>\n",
       "      <td>40547474</td>\n",
       "      <td>10</td>\n",
       "      <td>Ranged</td>\n",
       "      <td>2.0</td>\n",
       "      <td>224</td>\n",
       "      <td>4.0</td>\n",
       "      <td>0</td>\n",
       "      <td>1621</td>\n",
       "      <td>167</td>\n",
       "      <td>446</td>\n",
       "      <td>...</td>\n",
       "      <td>0</td>\n",
       "      <td>1</td>\n",
       "      <td>1</td>\n",
       "      <td>Ranged</td>\n",
       "      <td>58</td>\n",
       "      <td>Enchantress</td>\n",
       "      <td>int</td>\n",
       "      <td>9.0</td>\n",
       "      <td>14.0</td>\n",
       "      <td>4.0</td>\n",
       "    </tr>\n",
       "    <tr>\n",
       "      <th>3</th>\n",
       "      <td>102525542</td>\n",
       "      <td>4</td>\n",
       "      <td>Ranged</td>\n",
       "      <td>0.0</td>\n",
       "      <td>156</td>\n",
       "      <td>0.0</td>\n",
       "      <td>12</td>\n",
       "      <td>2202</td>\n",
       "      <td>42</td>\n",
       "      <td>259</td>\n",
       "      <td>...</td>\n",
       "      <td>0</td>\n",
       "      <td>1</td>\n",
       "      <td>1</td>\n",
       "      <td>Ranged</td>\n",
       "      <td>58</td>\n",
       "      <td>Enchantress</td>\n",
       "      <td>int</td>\n",
       "      <td>9.0</td>\n",
       "      <td>14.0</td>\n",
       "      <td>4.0</td>\n",
       "    </tr>\n",
       "    <tr>\n",
       "      <th>4</th>\n",
       "      <td>106809101</td>\n",
       "      <td>3</td>\n",
       "      <td>Ranged</td>\n",
       "      <td>2.0</td>\n",
       "      <td>186</td>\n",
       "      <td>7.0</td>\n",
       "      <td>2</td>\n",
       "      <td>1274</td>\n",
       "      <td>163</td>\n",
       "      <td>437</td>\n",
       "      <td>...</td>\n",
       "      <td>0</td>\n",
       "      <td>1</td>\n",
       "      <td>1</td>\n",
       "      <td>Ranged</td>\n",
       "      <td>58</td>\n",
       "      <td>Enchantress</td>\n",
       "      <td>int</td>\n",
       "      <td>9.0</td>\n",
       "      <td>14.0</td>\n",
       "      <td>4.0</td>\n",
       "    </tr>\n",
       "  </tbody>\n",
       "</table>\n",
       "<p>5 rows × 132 columns</p>\n",
       "</div>"
      ],
      "text/plain": [
       "   account_id  assists attack_type_x  camps_stacked  cluster  creeps_stacked  \\\n",
       "0    88553213       16        Ranged            0.0      224             0.0   \n",
       "1   106809101        8        Ranged            0.0      138             0.0   \n",
       "2    40547474       10        Ranged            2.0      224             4.0   \n",
       "3   102525542        4        Ranged            0.0      156             0.0   \n",
       "4   106809101        3        Ranged            2.0      186             7.0   \n",
       "\n",
       "   deaths  duration  first_blood_time  gold_per_min   ...    Nuker  Pusher  \\\n",
       "0       3      2983                 4           270   ...        0       1   \n",
       "1       5      2398               116           371   ...        0       1   \n",
       "2       0      1621               167           446   ...        0       1   \n",
       "3      12      2202                42           259   ...        0       1   \n",
       "4       2      1274               163           437   ...        0       1   \n",
       "\n",
       "   Support  attack_type_y  id_y localized_name_y primary_attr_y  pro_ban  \\\n",
       "0        1         Ranged    58      Enchantress            int      9.0   \n",
       "1        1         Ranged    58      Enchantress            int      9.0   \n",
       "2        1         Ranged    58      Enchantress            int      9.0   \n",
       "3        1         Ranged    58      Enchantress            int      9.0   \n",
       "4        1         Ranged    58      Enchantress            int      9.0   \n",
       "\n",
       "   pro_pick pro_win  \n",
       "0      14.0     4.0  \n",
       "1      14.0     4.0  \n",
       "2      14.0     4.0  \n",
       "3      14.0     4.0  \n",
       "4      14.0     4.0  \n",
       "\n",
       "[5 rows x 132 columns]"
      ]
     },
     "execution_count": 5,
     "metadata": {},
     "output_type": "execute_result"
    }
   ],
   "source": [
    "df.head()"
   ]
  },
  {
   "cell_type": "code",
   "execution_count": 6,
   "metadata": {},
   "outputs": [
    {
     "data": {
      "text/html": [
       "<div>\n",
       "<table border=\"1\" class=\"dataframe\">\n",
       "  <thead>\n",
       "    <tr style=\"text-align: right;\">\n",
       "      <th></th>\n",
       "      <th>account_id</th>\n",
       "      <th>assists</th>\n",
       "      <th>attack_type_x</th>\n",
       "      <th>camps_stacked</th>\n",
       "      <th>cluster</th>\n",
       "      <th>creeps_stacked</th>\n",
       "      <th>deaths</th>\n",
       "      <th>duration</th>\n",
       "      <th>first_blood_time</th>\n",
       "      <th>gold_per_min</th>\n",
       "      <th>...</th>\n",
       "      <th>Nuker</th>\n",
       "      <th>Pusher</th>\n",
       "      <th>Support</th>\n",
       "      <th>attack_type_y</th>\n",
       "      <th>id_y</th>\n",
       "      <th>localized_name_y</th>\n",
       "      <th>primary_attr_y</th>\n",
       "      <th>pro_ban</th>\n",
       "      <th>pro_pick</th>\n",
       "      <th>pro_win</th>\n",
       "    </tr>\n",
       "  </thead>\n",
       "  <tbody>\n",
       "    <tr>\n",
       "      <th>141318</th>\n",
       "      <td>112377459</td>\n",
       "      <td>0</td>\n",
       "      <td>Ranged</td>\n",
       "      <td>0.0</td>\n",
       "      <td>153</td>\n",
       "      <td>0.0</td>\n",
       "      <td>3</td>\n",
       "      <td>999</td>\n",
       "      <td>160</td>\n",
       "      <td>172</td>\n",
       "      <td>...</td>\n",
       "      <td>1</td>\n",
       "      <td>0</td>\n",
       "      <td>1</td>\n",
       "      <td>Ranged</td>\n",
       "      <td>68</td>\n",
       "      <td>Ancient Apparition</td>\n",
       "      <td>int</td>\n",
       "      <td>15.0</td>\n",
       "      <td>11.0</td>\n",
       "      <td>3.0</td>\n",
       "    </tr>\n",
       "    <tr>\n",
       "      <th>141319</th>\n",
       "      <td>117990312</td>\n",
       "      <td>21</td>\n",
       "      <td>Ranged</td>\n",
       "      <td>2.0</td>\n",
       "      <td>224</td>\n",
       "      <td>5.0</td>\n",
       "      <td>9</td>\n",
       "      <td>3396</td>\n",
       "      <td>143</td>\n",
       "      <td>364</td>\n",
       "      <td>...</td>\n",
       "      <td>1</td>\n",
       "      <td>0</td>\n",
       "      <td>1</td>\n",
       "      <td>Ranged</td>\n",
       "      <td>68</td>\n",
       "      <td>Ancient Apparition</td>\n",
       "      <td>int</td>\n",
       "      <td>15.0</td>\n",
       "      <td>11.0</td>\n",
       "      <td>3.0</td>\n",
       "    </tr>\n",
       "    <tr>\n",
       "      <th>141320</th>\n",
       "      <td>129585121</td>\n",
       "      <td>4</td>\n",
       "      <td>Ranged</td>\n",
       "      <td>0.0</td>\n",
       "      <td>224</td>\n",
       "      <td>0.0</td>\n",
       "      <td>1</td>\n",
       "      <td>2997</td>\n",
       "      <td>129</td>\n",
       "      <td>625</td>\n",
       "      <td>...</td>\n",
       "      <td>0</td>\n",
       "      <td>0</td>\n",
       "      <td>0</td>\n",
       "      <td>Ranged</td>\n",
       "      <td>59</td>\n",
       "      <td>Huskar</td>\n",
       "      <td>str</td>\n",
       "      <td>10.0</td>\n",
       "      <td>5.0</td>\n",
       "      <td>4.0</td>\n",
       "    </tr>\n",
       "    <tr>\n",
       "      <th>141321</th>\n",
       "      <td>101450083</td>\n",
       "      <td>6</td>\n",
       "      <td>Ranged</td>\n",
       "      <td>1.0</td>\n",
       "      <td>132</td>\n",
       "      <td>2.0</td>\n",
       "      <td>5</td>\n",
       "      <td>3149</td>\n",
       "      <td>251</td>\n",
       "      <td>735</td>\n",
       "      <td>...</td>\n",
       "      <td>0</td>\n",
       "      <td>0</td>\n",
       "      <td>0</td>\n",
       "      <td>Ranged</td>\n",
       "      <td>59</td>\n",
       "      <td>Huskar</td>\n",
       "      <td>str</td>\n",
       "      <td>10.0</td>\n",
       "      <td>5.0</td>\n",
       "      <td>4.0</td>\n",
       "    </tr>\n",
       "    <tr>\n",
       "      <th>141322</th>\n",
       "      <td>50828662</td>\n",
       "      <td>9</td>\n",
       "      <td>Ranged</td>\n",
       "      <td>0.0</td>\n",
       "      <td>123</td>\n",
       "      <td>0.0</td>\n",
       "      <td>6</td>\n",
       "      <td>1868</td>\n",
       "      <td>200</td>\n",
       "      <td>447</td>\n",
       "      <td>...</td>\n",
       "      <td>1</td>\n",
       "      <td>0</td>\n",
       "      <td>0</td>\n",
       "      <td>Ranged</td>\n",
       "      <td>105</td>\n",
       "      <td>Techies</td>\n",
       "      <td>int</td>\n",
       "      <td>NaN</td>\n",
       "      <td>NaN</td>\n",
       "      <td>NaN</td>\n",
       "    </tr>\n",
       "  </tbody>\n",
       "</table>\n",
       "<p>5 rows × 132 columns</p>\n",
       "</div>"
      ],
      "text/plain": [
       "        account_id  assists attack_type_x  camps_stacked  cluster  \\\n",
       "141318   112377459        0        Ranged            0.0      153   \n",
       "141319   117990312       21        Ranged            2.0      224   \n",
       "141320   129585121        4        Ranged            0.0      224   \n",
       "141321   101450083        6        Ranged            1.0      132   \n",
       "141322    50828662        9        Ranged            0.0      123   \n",
       "\n",
       "        creeps_stacked  deaths  duration  first_blood_time  gold_per_min  \\\n",
       "141318             0.0       3       999               160           172   \n",
       "141319             5.0       9      3396               143           364   \n",
       "141320             0.0       1      2997               129           625   \n",
       "141321             2.0       5      3149               251           735   \n",
       "141322             0.0       6      1868               200           447   \n",
       "\n",
       "         ...    Nuker  Pusher  Support  attack_type_y  id_y  \\\n",
       "141318   ...        1       0        1         Ranged    68   \n",
       "141319   ...        1       0        1         Ranged    68   \n",
       "141320   ...        0       0        0         Ranged    59   \n",
       "141321   ...        0       0        0         Ranged    59   \n",
       "141322   ...        1       0        0         Ranged   105   \n",
       "\n",
       "          localized_name_y primary_attr_y  pro_ban  pro_pick pro_win  \n",
       "141318  Ancient Apparition            int     15.0      11.0     3.0  \n",
       "141319  Ancient Apparition            int     15.0      11.0     3.0  \n",
       "141320              Huskar            str     10.0       5.0     4.0  \n",
       "141321              Huskar            str     10.0       5.0     4.0  \n",
       "141322             Techies            int      NaN       NaN     NaN  \n",
       "\n",
       "[5 rows x 132 columns]"
      ]
     },
     "execution_count": 6,
     "metadata": {},
     "output_type": "execute_result"
    }
   ],
   "source": [
    "df.tail()"
   ]
  },
  {
   "cell_type": "markdown",
   "metadata": {},
   "source": [
    "# Динамика изменения creep-stats (без разделения по ролям) по всем матчам в таблице"
   ]
  },
  {
   "cell_type": "markdown",
   "metadata": {},
   "source": [
    "## Разрешение по времени (минуты): 3, 5, 8, 10, 12, 15, 20, 25, 30"
   ]
  },
  {
   "cell_type": "markdown",
   "metadata": {},
   "source": [
    "8 минута"
   ]
  },
  {
   "cell_type": "code",
   "execution_count": 9,
   "metadata": {},
   "outputs": [
    {
     "data": {
      "text/plain": [
       "<matplotlib.axes._subplots.AxesSubplot at 0x109852e8>"
      ]
     },
     "execution_count": 9,
     "metadata": {},
     "output_type": "execute_result"
    },
    {
     "data": {
      "image/png": "[encoded data removed]",
      "text/plain": [
       "<matplotlib.figure.Figure at 0x10780400>"
      ]
     },
     "metadata": {},
     "output_type": "display_data"
    }
   ],
   "source": [
    "df['t_lasthits_cnt_8'].plot(kind = 'hist', bins = 30)"
   ]
  },
  {
   "cell_type": "markdown",
   "metadata": {},
   "source": [
    "25 минута"
   ]
  },
  {
   "cell_type": "code",
   "execution_count": 10,
   "metadata": {},
   "outputs": [
    {
     "data": {
      "text/plain": [
       "<matplotlib.axes._subplots.AxesSubplot at 0x106f18d0>"
      ]
     },
     "execution_count": 10,
     "metadata": {},
     "output_type": "execute_result"
    },
    {
     "data": {
      "image/png": "[encoded data removed]",
      "text/plain": [
       "<matplotlib.figure.Figure at 0xd254080>"
      ]
     },
     "metadata": {},
     "output_type": "display_data"
    }
   ],
   "source": [
    "df['t_lasthits_cnt_25'].plot(kind = 'hist', bins = 30)"
   ]
  },
  {
   "cell_type": "markdown",
   "metadata": {},
   "source": [
    "# Рассмотрим статистику добитых крипов по игроку Miracle- (account_id = 105248644)"
   ]
  },
  {
   "cell_type": "markdown",
   "metadata": {},
   "source": [
    "на 3, 5, 8, 10 и 12 минутах"
   ]
  },
  {
   "cell_type": "code",
   "execution_count": 79,
   "metadata": {},
   "outputs": [
    {
     "data": {
      "text/plain": [
       "<matplotlib.axes._subplots.AxesSubplot at 0x167ab518>"
      ]
     },
     "execution_count": 79,
     "metadata": {},
     "output_type": "execute_result"
    },
    {
     "data": {
      "image/png": "[encoded data removed]",
      "text/plain": [
       "<matplotlib.figure.Figure at 0x167b91d0>"
      ]
     },
     "metadata": {},
     "output_type": "display_data"
    }
   ],
   "source": [
    "df.loc[df['account_id'] == 105248644, ['t_lasthits_cnt_3', \n",
    "                                       't_lasthits_cnt_5', \n",
    "                                       't_lasthits_cnt_8',\n",
    "                                       't_lasthits_cnt_10',\n",
    "                                       't_lasthits_cnt_12'\n",
    "                                      ]].plot(kind = 'hist')"
   ]
  },
  {
   "cell_type": "markdown",
   "metadata": {},
   "source": [
    "# Кол-во заработанного золота игроком Miracle-"
   ]
  },
  {
   "cell_type": "code",
   "execution_count": 62,
   "metadata": {},
   "outputs": [
    {
     "data": {
      "text/plain": [
       "<matplotlib.axes._subplots.AxesSubplot at 0x14b11e10>"
      ]
     },
     "execution_count": 62,
     "metadata": {},
     "output_type": "execute_result"
    },
    {
     "data": {
      "image/png": "[encoded data removed]",
      "text/plain": [
       "<matplotlib.figure.Figure at 0x14b11390>"
      ]
     },
     "metadata": {},
     "output_type": "display_data"
    }
   ],
   "source": [
    "df.loc[df['account_id'] == 105248644,     ['t_gold_cnt_3',\n",
    "                                           't_gold_cnt_5',\n",
    "                                           't_gold_cnt_8',\n",
    "                                           't_gold_cnt_10',\n",
    "                                           't_gold_cnt_12',\n",
    "                                           't_gold_cnt_15',\n",
    "                                           't_gold_cnt_20',\n",
    "                                           't_gold_cnt_25',\n",
    "                                           't_gold_cnt_30'\n",
    "                                          ]].plot(kind = 'box', figsize = (12, 12))"
   ]
  },
  {
   "cell_type": "markdown",
   "metadata": {},
   "source": [
    "# Статистика только по мидерам, указанным в файле \"Список игроков MID\""
   ]
  },
  {
   "cell_type": "code",
   "execution_count": 56,
   "metadata": {},
   "outputs": [],
   "source": [
    "isMidder = df['account_id'].map(lambda x: x in [\n",
    "                                                311360822,\n",
    "                                                205813150,\n",
    "                                                106573901,\n",
    "                                                111620041,\n",
    "                                                149486894,\n",
    "                                                105248644,\n",
    "                                                86700461,\n",
    "                                                116585378,\n",
    "                                                173880329,\n",
    "                                                106863163,\n",
    "                                                101586543,\n",
    "                                                108484186,\n",
    "                                                113457795,\n",
    "                                                5150808,\n",
    "                                                12231202,\n",
    "                                                70388657,\n",
    "                                                250114507,\n",
    "                                                87586992,\n",
    "                                                154715080,\n",
    "                                                19757254,\n",
    "                                                86799300,\n",
    "                                                93119769, \n",
    "                                                ])"
   ]
  },
  {
   "cell_type": "code",
   "execution_count": 64,
   "metadata": {},
   "outputs": [],
   "source": [
    "mid = df[isMidder]"
   ]
  },
  {
   "cell_type": "markdown",
   "metadata": {},
   "source": [
    "# Время покупки Bottle мидерами в секундах от старта первой пачки крипов"
   ]
  },
  {
   "cell_type": "code",
   "execution_count": 68,
   "metadata": {},
   "outputs": [
    {
     "data": {
      "text/plain": [
       "<matplotlib.axes._subplots.AxesSubplot at 0x155f7d30>"
      ]
     },
     "execution_count": 68,
     "metadata": {},
     "output_type": "execute_result"
    },
    {
     "data": {
      "image/png": "[encoded data removed]",
      "text/plain": [
       "<matplotlib.figure.Figure at 0x15783518>"
      ]
     },
     "metadata": {},
     "output_type": "display_data"
    }
   ],
   "source": [
    "mid['t_item_bottle'].plot(kind = 'hist', bins = 20)"
   ]
  },
  {
   "cell_type": "markdown",
   "metadata": {},
   "source": [
    "# Время покупки Bottle мидерами в минутах от старта первой пачки крипов"
   ]
  },
  {
   "cell_type": "code",
   "execution_count": 74,
   "metadata": {},
   "outputs": [
    {
     "data": {
      "text/plain": [
       "<matplotlib.axes._subplots.AxesSubplot at 0x16461cf8>"
      ]
     },
     "execution_count": 74,
     "metadata": {},
     "output_type": "execute_result"
    },
    {
     "data": {
      "image/png": "[encoded data removed]",
      "text/plain": [
       "<matplotlib.figure.Figure at 0x1647f6d8>"
      ]
     },
     "metadata": {},
     "output_type": "display_data"
    }
   ],
   "source": [
    "mid['t_item_bottle'].divide(60).plot(kind = 'hist', bins = 7)"
   ]
  },
  {
   "cell_type": "markdown",
   "metadata": {},
   "source": [
    "# Время покупки Bottle игроком Miracle- в минутах"
   ]
  },
  {
   "cell_type": "code",
   "execution_count": 82,
   "metadata": {},
   "outputs": [
    {
     "data": {
      "text/plain": [
       "<matplotlib.axes._subplots.AxesSubplot at 0x17188f98>"
      ]
     },
     "execution_count": 82,
     "metadata": {},
     "output_type": "execute_result"
    },
    {
     "data": {
      "image/png": "[encoded data removed]",
      "text/plain": [
       "<matplotlib.figure.Figure at 0x1717fba8>"
      ]
     },
     "metadata": {},
     "output_type": "display_data"
    }
   ],
   "source": [
    "mid.loc[mid['account_id'] == 105248644, ['t_item_bottle']].divide(60).plot(kind = 'hist', bins = 7)"
   ]
  },
  {
   "cell_type": "code",
   "execution_count": null,
   "metadata": {
    "collapsed": true
   },
   "outputs": [],
   "source": []
  }
 ],
 "metadata": {
  "kernelspec": {
   "display_name": "Python [conda root]",
   "language": "python",
   "name": "conda-root-py"
  },
  "language_info": {
   "codemirror_mode": {
    "name": "ipython",
    "version": 2
   },
   "file_extension": ".py",
   "mimetype": "text/x-python",
   "name": "python",
   "nbconvert_exporter": "python",
   "pygments_lexer": "ipython2",
   "version": "2.7.12"
  }
 },
 "nbformat": 4,
 "nbformat_minor": 1
}
