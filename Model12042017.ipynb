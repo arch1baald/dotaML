{
 "cells": [
  {
   "cell_type": "code",
   "execution_count": 240,
   "metadata": {
    "collapsed": true
   },
   "outputs": [],
   "source": [
    "import urllib2\n",
    "import json\n",
    "import random\n",
    "import datetime\n",
    "\n",
    "import math \n",
    "import pandas as pd \n",
    "import numpy as np \n",
    "import sklearn \n",
    "import matplotlib.pyplot as plt \n",
    "from sklearn import svm, datasets \n",
    "%matplotlib inline\n",
    "plt.style.use('ggplot')"
   ]
  },
  {
   "cell_type": "code",
   "execution_count": 2,
   "metadata": {
    "collapsed": true
   },
   "outputs": [],
   "source": [
    "urlQuery = \"https://api.opendota.com/api/explorer?sql=SELECT%0A%0A--%20Basic%20table%0Amatches.match_id%2C%0Aplayer_matches.account_id%2C%0Ateams.team_id%2C%0Amatches.leagueid%2C%0Aleagues.name%20leaguename%2C%0Amatches.start_time%2C%0Aplayer_matches.hero_id%2C%0Aplayer_matches.player_slot%2C%0A((player_matches.player_slot%20%3C%20128)%20%3D%20matches.radiant_win)%20win%2C%0Aplayer_matches.deaths%2C%0Aplayer_matches.assists%2C%0Aplayer_matches.gold_per_min%20%2C%0Aplayer_matches.xp_per_min%20%2C%0Aplayer_matches.gold_spent%20%2C%0Aplayer_matches.hero_damage%20%2C%0Aplayer_matches.tower_damage%20%2C%0Aplayer_matches.stuns%20%2C%0Aplayer_matches.creeps_stacked%20%2C%0Aplayer_matches.camps_stacked%20%2C%0Aplayer_matches.hero_healing%20%2C%0Amatches.duration%2C%0Amatches.cluster%2C%0Amatches.first_blood_time%2C%0A%0A--timeStamp%20variables%0Aplayer_matches.gold_t%5B3%5D%20t_Gold_cnt_3%2C%0Aplayer_matches.gold_t%5B5%5D%20t_Gold_cnt_5%2C%0Aplayer_matches.gold_t%5B8%5D%20t_Gold_cnt_8%2C%0Aplayer_matches.gold_t%5B10%5D%20t_Gold_cnt_10%2C%0Aplayer_matches.gold_t%5B12%5D%20t_Gold_cnt_12%2C%0Aplayer_matches.gold_t%5B15%5D%20t_Gold_cnt_15%2C%0Aplayer_matches.gold_t%5B20%5D%20t_Gold_cnt_20%2C%0Aplayer_matches.gold_t%5B25%5D%20t_Gold_cnt_25%2C%0Aplayer_matches.gold_t%5B30%5D%20t_Gold_cnt_30%2C%0A%0Aplayer_matches.lh_t%5B3%5D%20t_LastHits_cnt_3%2C%0Aplayer_matches.lh_t%5B5%5D%20t_LastHits_cnt_5%2C%0Aplayer_matches.lh_t%5B8%5D%20t_LastHits_cnt_8%2C%0Aplayer_matches.lh_t%5B10%5D%20t_LastHits_cnt_10%2C%0Aplayer_matches.lh_t%5B12%5D%20t_LastHits_cnt_12%2C%0Aplayer_matches.lh_t%5B15%5D%20t_LastHits_cnt_15%2C%0Aplayer_matches.lh_t%5B20%5D%20t_LastHits_cnt_20%2C%0Aplayer_matches.lh_t%5B25%5D%20t_LastHits_cnt_25%2C%0Aplayer_matches.lh_t%5B30%5D%20t_LastHits_cnt_30%2C%0A%0Aplayer_matches.xp_t%5B3%5D%20t_Experience_cnt_3%2C%0Aplayer_matches.xp_t%5B5%5D%20t_Experience_cnt_5%2C%0Aplayer_matches.xp_t%5B8%5D%20t_Experience_cnt_8%2C%0Aplayer_matches.xp_t%5B10%5D%20t_Experience_cnt_10%2C%0Aplayer_matches.xp_t%5B12%5D%20t_Experience_cnt_12%2C%0Aplayer_matches.xp_t%5B15%5D%20t_Experience_cnt_15%2C%0Aplayer_matches.xp_t%5B20%5D%20t_Experience_cnt_20%2C%0Aplayer_matches.xp_t%5B25%5D%20t_Experience_cnt_25%2C%0Aplayer_matches.xp_t%5B30%5D%20t_Experience_cnt_30%2C%0A%0Aplayer_matches.pings%20ping_log%2C%0Aplayer_matches.obs_log%2C%0Aplayer_matches.sen_log%2C%0Aplayer_matches.runes_log%2C%0Aplayer_matches.kills_log%2C%0Aplayer_matches.buyback_log%2C%0A%0A--table_heroStats%0Aheroes.localized_name%2C%0Aheroes.attack_type%2C%0Aheroes.primary_attr%2C%0Aheroes.roles%20role_log%2C%0A%0A--purchase_log%0Aplayer_matches.purchase_log%0A%0A%0AFROM%20matches%0AJOIN%20match_patch%20using(match_id)%0AJOIN%20leagues%20using(leagueid)%0AJOIN%20player_matches%20using(match_id)%0ALEFT%20JOIN%20notable_players%20using(account_id)%0ALEFT%20JOIN%20teams%20using(team_id)%0AJOIN%20heroes%20ON%20player_matches.hero_id%20%3D%20heroes.id%0A%0A%0AWHERE%20TRUE%0AAND%20player_matches.account_id%20in%0A%20%20%20%20(%0A%20%20%20%20311360822%2C%0A%20%20%20%20205813150%2C%0A%20%20%20%20106573901%2C%0A%20%20%20%20111620041%2C%0A%20%20%20%20149486894%2C%0A%20%20%20%20105248644%2C%0A%20%20%20%2086700461%2C%0A%20%20%20%20116585378%2C%0A%20%20%20%20173880329%2C%0A%20%20%20%20106863163%2C%0A%20%20%20%20101586543%2C%0A%20%20%20%20108484186%2C%0A%20%20%20%20113457795%2C%0A%20%20%20%205150808%2C%0A%20%20%20%2012231202%2C%0A%20%20%20%2070388657%2C%0A%20%20%20%20250114507%2C%0A%20%20%20%2087586992%2C%0A%20%20%20%20154715080%2C%0A%20%20%20%2019757254%2C%0A%20%20%20%2086799300%2C%0A%20%20%20%2093119769%2C%0A%20%20%20%20107803494%0A%20%20%20%20)%0AAND%20matches.start_time%20%3E%3D%201483218000%0AORDER%20BY%20matches.match_id%20DESC%20NULLS%20LAST%0A--LIMIT%20200\""
   ]
  },
  {
   "cell_type": "markdown",
   "metadata": {},
   "source": [
    "# Загружаем данные в формате json, парсим и сохраняем в Pandas"
   ]
  },
  {
   "cell_type": "code",
   "execution_count": 308,
   "metadata": {
    "collapsed": true
   },
   "outputs": [],
   "source": [
    "response = urllib2.urlopen(urlQuery)\n",
    "jsonResponse = response.read()\n",
    "dictData = json.loads(jsonResponse)\n",
    "matches = pd.DataFrame.from_dict(dictData['rows'])"
   ]
  },
  {
   "cell_type": "markdown",
   "metadata": {},
   "source": [
    "# Добавляем уникальный идентификатор matchId_accountId и дату"
   ]
  },
  {
   "cell_type": "code",
   "execution_count": 309,
   "metadata": {},
   "outputs": [
    {
     "name": "stdout",
     "output_type": "stream",
     "text": [
      "(1214, 62)\n"
     ]
    }
   ],
   "source": [
    "matches['id'] = matches['match_id'].astype('str') + \"_\" + matches['account_id'].astype('str')\n",
    "print matches.shape\n",
    "matches['datetime'] = matches[\"start_time\"].apply(lambda x: datetime.datetime.fromtimestamp(x).strftime('%d.%m.%Y %H:%M:%S'))"
   ]
  },
  {
   "cell_type": "code",
   "execution_count": 310,
   "metadata": {},
   "outputs": [
    {
     "data": {
      "text/plain": [
       "[u'account_id',\n",
       " u'assists',\n",
       " u'attack_type',\n",
       " u'buyback_log',\n",
       " u'camps_stacked',\n",
       " u'cluster',\n",
       " u'creeps_stacked',\n",
       " u'deaths',\n",
       " u'duration',\n",
       " u'first_blood_time',\n",
       " u'gold_per_min',\n",
       " u'gold_spent',\n",
       " u'hero_damage',\n",
       " u'hero_healing',\n",
       " u'hero_id',\n",
       " u'kills_log',\n",
       " u'leagueid',\n",
       " u'leaguename',\n",
       " u'localized_name',\n",
       " u'match_id',\n",
       " u'obs_log',\n",
       " u'ping_log',\n",
       " u'player_slot',\n",
       " u'primary_attr',\n",
       " u'purchase_log',\n",
       " u'role_log',\n",
       " u'runes_log',\n",
       " u'sen_log',\n",
       " u'start_time',\n",
       " u'stuns',\n",
       " u't_experience_cnt_10',\n",
       " u't_experience_cnt_12',\n",
       " u't_experience_cnt_15',\n",
       " u't_experience_cnt_20',\n",
       " u't_experience_cnt_25',\n",
       " u't_experience_cnt_3',\n",
       " u't_experience_cnt_30',\n",
       " u't_experience_cnt_5',\n",
       " u't_experience_cnt_8',\n",
       " u't_gold_cnt_10',\n",
       " u't_gold_cnt_12',\n",
       " u't_gold_cnt_15',\n",
       " u't_gold_cnt_20',\n",
       " u't_gold_cnt_25',\n",
       " u't_gold_cnt_3',\n",
       " u't_gold_cnt_30',\n",
       " u't_gold_cnt_5',\n",
       " u't_gold_cnt_8',\n",
       " u't_lasthits_cnt_10',\n",
       " u't_lasthits_cnt_12',\n",
       " u't_lasthits_cnt_15',\n",
       " u't_lasthits_cnt_20',\n",
       " u't_lasthits_cnt_25',\n",
       " u't_lasthits_cnt_3',\n",
       " u't_lasthits_cnt_30',\n",
       " u't_lasthits_cnt_5',\n",
       " u't_lasthits_cnt_8',\n",
       " u'team_id',\n",
       " u'tower_damage',\n",
       " u'win',\n",
       " u'xp_per_min',\n",
       " 'id',\n",
       " 'datetime']"
      ]
     },
     "execution_count": 310,
     "metadata": {},
     "output_type": "execute_result"
    }
   ],
   "source": [
    "list(matches)"
   ]
  },
  {
   "cell_type": "code",
   "execution_count": 311,
   "metadata": {},
   "outputs": [
    {
     "data": {
      "text/html": [
       "<div>\n",
       "<table border=\"1\" class=\"dataframe\">\n",
       "  <thead>\n",
       "    <tr style=\"text-align: right;\">\n",
       "      <th></th>\n",
       "      <th>account_id</th>\n",
       "      <th>assists</th>\n",
       "      <th>attack_type</th>\n",
       "      <th>buyback_log</th>\n",
       "      <th>camps_stacked</th>\n",
       "      <th>cluster</th>\n",
       "      <th>creeps_stacked</th>\n",
       "      <th>deaths</th>\n",
       "      <th>duration</th>\n",
       "      <th>first_blood_time</th>\n",
       "      <th>...</th>\n",
       "      <th>t_lasthits_cnt_3</th>\n",
       "      <th>t_lasthits_cnt_30</th>\n",
       "      <th>t_lasthits_cnt_5</th>\n",
       "      <th>t_lasthits_cnt_8</th>\n",
       "      <th>team_id</th>\n",
       "      <th>tower_damage</th>\n",
       "      <th>win</th>\n",
       "      <th>xp_per_min</th>\n",
       "      <th>id</th>\n",
       "      <th>datetime</th>\n",
       "    </tr>\n",
       "  </thead>\n",
       "  <tbody>\n",
       "    <tr>\n",
       "      <th>1209</th>\n",
       "      <td>5150808</td>\n",
       "      <td>6</td>\n",
       "      <td>Melee</td>\n",
       "      <td>[]</td>\n",
       "      <td>0.0</td>\n",
       "      <td>136</td>\n",
       "      <td>0.0</td>\n",
       "      <td>3</td>\n",
       "      <td>2436</td>\n",
       "      <td>424</td>\n",
       "      <td>...</td>\n",
       "      <td>6.0</td>\n",
       "      <td>177.0</td>\n",
       "      <td>25.0</td>\n",
       "      <td>44.0</td>\n",
       "      <td>46</td>\n",
       "      <td>953</td>\n",
       "      <td>False</td>\n",
       "      <td>470</td>\n",
       "      <td>2889713298_5150808</td>\n",
       "      <td>02.01.2017 19:53:44</td>\n",
       "    </tr>\n",
       "    <tr>\n",
       "      <th>1210</th>\n",
       "      <td>5150808</td>\n",
       "      <td>6</td>\n",
       "      <td>Ranged</td>\n",
       "      <td>[]</td>\n",
       "      <td>0.0</td>\n",
       "      <td>135</td>\n",
       "      <td>0.0</td>\n",
       "      <td>1</td>\n",
       "      <td>1700</td>\n",
       "      <td>204</td>\n",
       "      <td>...</td>\n",
       "      <td>7.0</td>\n",
       "      <td>187.0</td>\n",
       "      <td>22.0</td>\n",
       "      <td>40.0</td>\n",
       "      <td>46</td>\n",
       "      <td>6972</td>\n",
       "      <td>True</td>\n",
       "      <td>434</td>\n",
       "      <td>2889611758_5150808</td>\n",
       "      <td>02.01.2017 19:01:10</td>\n",
       "    </tr>\n",
       "    <tr>\n",
       "      <th>1211</th>\n",
       "      <td>87586992</td>\n",
       "      <td>5</td>\n",
       "      <td>Melee</td>\n",
       "      <td>[]</td>\n",
       "      <td>0.0</td>\n",
       "      <td>135</td>\n",
       "      <td>0.0</td>\n",
       "      <td>0</td>\n",
       "      <td>1700</td>\n",
       "      <td>204</td>\n",
       "      <td>...</td>\n",
       "      <td>8.0</td>\n",
       "      <td>180.0</td>\n",
       "      <td>15.0</td>\n",
       "      <td>44.0</td>\n",
       "      <td>2006913</td>\n",
       "      <td>3013</td>\n",
       "      <td>False</td>\n",
       "      <td>478</td>\n",
       "      <td>2889611758_87586992</td>\n",
       "      <td>02.01.2017 19:01:10</td>\n",
       "    </tr>\n",
       "    <tr>\n",
       "      <th>1212</th>\n",
       "      <td>173880329</td>\n",
       "      <td>11</td>\n",
       "      <td>Ranged</td>\n",
       "      <td>[]</td>\n",
       "      <td>0.0</td>\n",
       "      <td>224</td>\n",
       "      <td>0.0</td>\n",
       "      <td>4</td>\n",
       "      <td>2568</td>\n",
       "      <td>139</td>\n",
       "      <td>...</td>\n",
       "      <td>4.0</td>\n",
       "      <td>179.0</td>\n",
       "      <td>11.0</td>\n",
       "      <td>22.0</td>\n",
       "      <td>2640025</td>\n",
       "      <td>2354</td>\n",
       "      <td>True</td>\n",
       "      <td>643</td>\n",
       "      <td>2889067403_173880329</td>\n",
       "      <td>02.01.2017 15:03:51</td>\n",
       "    </tr>\n",
       "    <tr>\n",
       "      <th>1213</th>\n",
       "      <td>173880329</td>\n",
       "      <td>18</td>\n",
       "      <td>Ranged</td>\n",
       "      <td>[]</td>\n",
       "      <td>0.0</td>\n",
       "      <td>224</td>\n",
       "      <td>0.0</td>\n",
       "      <td>4</td>\n",
       "      <td>2570</td>\n",
       "      <td>0</td>\n",
       "      <td>...</td>\n",
       "      <td>5.0</td>\n",
       "      <td>166.0</td>\n",
       "      <td>13.0</td>\n",
       "      <td>28.0</td>\n",
       "      <td>2640025</td>\n",
       "      <td>3735</td>\n",
       "      <td>True</td>\n",
       "      <td>539</td>\n",
       "      <td>2888927298_173880329</td>\n",
       "      <td>02.01.2017 13:59:04</td>\n",
       "    </tr>\n",
       "  </tbody>\n",
       "</table>\n",
       "<p>5 rows × 63 columns</p>\n",
       "</div>"
      ],
      "text/plain": [
       "      account_id  assists attack_type buyback_log  camps_stacked  cluster  \\\n",
       "1209     5150808        6       Melee          []            0.0      136   \n",
       "1210     5150808        6      Ranged          []            0.0      135   \n",
       "1211    87586992        5       Melee          []            0.0      135   \n",
       "1212   173880329       11      Ranged          []            0.0      224   \n",
       "1213   173880329       18      Ranged          []            0.0      224   \n",
       "\n",
       "      creeps_stacked  deaths  duration  first_blood_time         ...           \\\n",
       "1209             0.0       3      2436               424         ...            \n",
       "1210             0.0       1      1700               204         ...            \n",
       "1211             0.0       0      1700               204         ...            \n",
       "1212             0.0       4      2568               139         ...            \n",
       "1213             0.0       4      2570                 0         ...            \n",
       "\n",
       "      t_lasthits_cnt_3  t_lasthits_cnt_30  t_lasthits_cnt_5  t_lasthits_cnt_8  \\\n",
       "1209               6.0              177.0              25.0              44.0   \n",
       "1210               7.0              187.0              22.0              40.0   \n",
       "1211               8.0              180.0              15.0              44.0   \n",
       "1212               4.0              179.0              11.0              22.0   \n",
       "1213               5.0              166.0              13.0              28.0   \n",
       "\n",
       "      team_id tower_damage    win xp_per_min                    id  \\\n",
       "1209       46          953  False        470    2889713298_5150808   \n",
       "1210       46         6972   True        434    2889611758_5150808   \n",
       "1211  2006913         3013  False        478   2889611758_87586992   \n",
       "1212  2640025         2354   True        643  2889067403_173880329   \n",
       "1213  2640025         3735   True        539  2888927298_173880329   \n",
       "\n",
       "                 datetime  \n",
       "1209  02.01.2017 19:53:44  \n",
       "1210  02.01.2017 19:01:10  \n",
       "1211  02.01.2017 19:01:10  \n",
       "1212  02.01.2017 15:03:51  \n",
       "1213  02.01.2017 13:59:04  \n",
       "\n",
       "[5 rows x 63 columns]"
      ]
     },
     "execution_count": 311,
     "metadata": {},
     "output_type": "execute_result"
    }
   ],
   "source": [
    "matches.tail()"
   ]
  },
  {
   "cell_type": "markdown",
   "metadata": {},
   "source": [
    "# Parse Items Timing"
   ]
  },
  {
   "cell_type": "code",
   "execution_count": 312,
   "metadata": {},
   "outputs": [
    {
     "name": "stdout",
     "output_type": "stream",
     "text": [
      "Line 266: Log does not exists\n",
      "Line 417: Log does not exists\n",
      "Line 497: Log does not exists\n",
      "Line 504: Log does not exists\n",
      "Line 505: Log does not exists\n"
     ]
    }
   ],
   "source": [
    "t_item = dict()\n",
    "itemList = [\n",
    "            'blink',\n",
    "            'power_treads',\n",
    "            'ultimate_scepter',\n",
    "            'phase_boots',\n",
    "            'travel_boots',\n",
    "            'blade_mail',\n",
    "            'arcane_boots',\n",
    "            'black_king_bar',\n",
    "            'desolator',\n",
    "            'magic_wand',\n",
    "            'tranquil_boots',\n",
    "            'invis_sword',\n",
    "            'echo_sabre',\n",
    "            'manta',\n",
    "            'ring_of_aquila',\n",
    "            'force_staff',\n",
    "            'aether_lens',\n",
    "            'wind_lace',\n",
    "            'silver_edge',\n",
    "            'hand_of_midas',\n",
    "            'sphere',\n",
    "            'boots',\n",
    "            'hurricane_pike',\n",
    "            'bottle'            \n",
    "            ]\n",
    "columnNames = ['id']\n",
    "\n",
    "for item in itemList:\n",
    "    columnNames.append(\"t_item_\" + item)\n",
    "\n",
    "items = pd.DataFrame(columns = columnNames)\n",
    "    \n",
    "for i in range(0, len(matches['purchase_log'])):\n",
    "    \n",
    "    purchaseList = matches['purchase_log'][i]     \n",
    "    for item in itemList:\n",
    "        columnName = \"t_item_\" + item\n",
    "        t_item[columnName] = np.nan\n",
    "        \n",
    "    if purchaseList is not None:\n",
    "        for purchase in purchaseList:\n",
    "            for item in itemList:\n",
    "                columnName = \"t_item_\" + item\n",
    "                if purchase['key'] == item and purchase['time'] < 30*60:\n",
    "                    t_item[columnName] = purchase['time']\n",
    "                    unique_id = matches['match_id'][i].astype('str') + \"_\" + matches['account_id'][i].astype('str')\n",
    "                    t_item['id'] = unique_id\n",
    "        itemsRow = pd.DataFrame.from_dict(t_item, orient = 'index').transpose()\n",
    "        items = items.append(itemsRow, ignore_index=True)           \n",
    "    else: print \"Line %s: Log does not exists\" %i"
   ]
  },
  {
   "cell_type": "code",
   "execution_count": 313,
   "metadata": {},
   "outputs": [
    {
     "data": {
      "text/plain": [
       "(1209, 87)"
      ]
     },
     "execution_count": 313,
     "metadata": {},
     "output_type": "execute_result"
    }
   ],
   "source": [
    "matches = matches.merge(items, left_on='id', right_on='id', how='inner')\n",
    "matches.shape"
   ]
  },
  {
   "cell_type": "markdown",
   "metadata": {},
   "source": [
    "# First Kill Timing (Время в секундах от старта первой пачки крипов)"
   ]
  },
  {
   "cell_type": "code",
   "execution_count": 314,
   "metadata": {},
   "outputs": [
    {
     "name": "stdout",
     "output_type": "stream",
     "text": [
      "Line 87: Player has 0 kills\n",
      "Line 96: Player has 0 kills\n",
      "Line 171: Player has 0 kills\n",
      "Line 383: Player has 0 kills\n",
      "Line 423: Player has 0 kills\n",
      "Line 431: Player has 0 kills\n",
      "Line 475: Player has 0 kills\n",
      "Line 557: Player has 0 kills\n",
      "Line 608: Player has 0 kills\n",
      "Line 697: Player has 0 kills\n",
      "Line 776: Player has 0 kills\n",
      "Line 788: Player has 0 kills\n",
      "Line 800: Player has 0 kills\n",
      "Line 816: Player has 0 kills\n",
      "Line 848: Player has 0 kills\n",
      "Line 1003: Player has 0 kills\n",
      "Line 1023: Player has 0 kills\n",
      "Line 1116: Player has 0 kills\n",
      "Line 1165: Player has 0 kills\n"
     ]
    }
   ],
   "source": [
    "for i in range(0, len(matches)):\n",
    "    matches.loc[i, 't_first_kill'] = np.nan\n",
    "    try:\n",
    "        t_first_kill = matches['kills_log'][i][0]['time']\n",
    "    except Exception:\n",
    "        print \"Line %s: Player has 0 kills\" %i\n",
    "    if t_first_kill is not None:\n",
    "        matches.loc[i, 't_first_kill'] = t_first_kill"
   ]
  },
  {
   "cell_type": "code",
   "execution_count": 315,
   "metadata": {},
   "outputs": [
    {
     "data": {
      "text/plain": [
       "(1209, 88)"
      ]
     },
     "execution_count": 315,
     "metadata": {},
     "output_type": "execute_result"
    }
   ],
   "source": [
    "matches.shape"
   ]
  },
  {
   "cell_type": "code",
   "execution_count": 316,
   "metadata": {},
   "outputs": [
    {
     "data": {
      "text/plain": [
       "<matplotlib.axes._subplots.AxesSubplot at 0x19a3c4e0>"
      ]
     },
     "execution_count": 316,
     "metadata": {},
     "output_type": "execute_result"
    },
    {
     "data": {
      "image/png": "[encoded data removed]",
      "text/plain": [
       "<matplotlib.figure.Figure at 0x12fc6b00>"
      ]
     },
     "metadata": {},
     "output_type": "display_data"
    }
   ],
   "source": [
    "matches['t_first_kill'].plot(kind = 'hist')"
   ]
  },
  {
   "cell_type": "markdown",
   "metadata": {},
   "source": [
    "# sen_log (Сделать разбиение по минутам!)"
   ]
  },
  {
   "cell_type": "code",
   "execution_count": 317,
   "metadata": {},
   "outputs": [],
   "source": [
    "timeStamps = [\n",
    "              '3',\n",
    "              '5',\n",
    "              '8',\n",
    "              '10',\n",
    "              '12',\n",
    "              '15',\n",
    "              '20',\n",
    "              '25',\n",
    "              '30'\n",
    "             ]\n",
    "sen_cnt = {\n",
    "                'id':0,\n",
    "                't_sen_cnt_3':0,\n",
    "                't_sen_cnt_5':0,\n",
    "                't_sen_cnt_8':0,\n",
    "                't_sen_cnt_10':0,\n",
    "                't_sen_cnt_12':0,\n",
    "                't_sen_cnt_15':0,\n",
    "                't_sen_cnt_20':0,\n",
    "                't_sen_cnt_25':0,\n",
    "                't_sen_cnt_30':0       \n",
    "                }\n",
    "\n",
    "sen = pd.DataFrame(columns = [key for key, value in sen_cnt.items()])\n",
    "\n",
    "for i in range(0, len(matches['sen_log'])):\n",
    "    sen_cnt = {\n",
    "                'id':0,\n",
    "                't_sen_cnt_3':0,\n",
    "                't_sen_cnt_5':0,\n",
    "                't_sen_cnt_8':0,\n",
    "                't_sen_cnt_10':0,\n",
    "                't_sen_cnt_12':0,\n",
    "                't_sen_cnt_15':0,\n",
    "                't_sen_cnt_20':0,\n",
    "                't_sen_cnt_25':0,\n",
    "                't_sen_cnt_30':0       \n",
    "                }\n",
    "    try: \n",
    "        if matches['sen_log'][i] is not None:\n",
    "            cumulative = 0\n",
    "            for j in range(0, len(matches['sen_log'][i])):\n",
    "                for timeStamp in timeStamps:\n",
    "                    if matches['sen_log'][i][j]['time'] < int(timeStamp) * 60:\n",
    "                        varName = \"t_sen_cnt_\" + timeStamp\n",
    "                        sen_cnt[varName] += 1\n",
    "            sen_cnt['id'] = matches['id'][i]\n",
    "            senRow = pd.DataFrame.from_dict(sen_cnt, orient = 'index').transpose()\n",
    "            sen = sen.append(senRow, ignore_index=True)\n",
    "        else: print \"Line %s: Log does not exists\" %i\n",
    "    except Exception:\n",
    "        print \"Line %s: Unknown error\" %i"
   ]
  },
  {
   "cell_type": "code",
   "execution_count": 318,
   "metadata": {},
   "outputs": [
    {
     "data": {
      "text/plain": [
       "(1209, 97)"
      ]
     },
     "execution_count": 318,
     "metadata": {},
     "output_type": "execute_result"
    }
   ],
   "source": [
    "matches = matches.merge(sen, left_on='id', right_on='id', how='inner')\n",
    "matches.shape"
   ]
  },
  {
   "cell_type": "markdown",
   "metadata": {},
   "source": [
    "# obs_log (Сделать разбиение по минутам!)"
   ]
  },
  {
   "cell_type": "code",
   "execution_count": 319,
   "metadata": {
    "collapsed": true
   },
   "outputs": [],
   "source": [
    "timeStamps = [\n",
    "              '3',\n",
    "              '5',\n",
    "              '8',\n",
    "              '10',\n",
    "              '12',\n",
    "              '15',\n",
    "              '20',\n",
    "              '25',\n",
    "              '30'\n",
    "             ]\n",
    "obs_cnt = {\n",
    "                'id':0,\n",
    "                't_obs_cnt_3':0,\n",
    "                't_obs_cnt_5':0,\n",
    "                't_obs_cnt_8':0,\n",
    "                't_obs_cnt_10':0,\n",
    "                't_obs_cnt_12':0,\n",
    "                't_obs_cnt_15':0,\n",
    "                't_obs_cnt_20':0,\n",
    "                't_obs_cnt_25':0,\n",
    "                't_obs_cnt_30':0       \n",
    "                }\n",
    "\n",
    "obs = pd.DataFrame(columns = [key for key, value in obs_cnt.items()])\n",
    "\n",
    "for i in range(0, len(matches['obs_log'])):\n",
    "    obs_cnt = {\n",
    "                'id':0,\n",
    "                't_obs_cnt_3':0,\n",
    "                't_obs_cnt_5':0,\n",
    "                't_obs_cnt_8':0,\n",
    "                't_obs_cnt_10':0,\n",
    "                't_obs_cnt_12':0,\n",
    "                't_obs_cnt_15':0,\n",
    "                't_obs_cnt_20':0,\n",
    "                't_obs_cnt_25':0,\n",
    "                't_obs_cnt_30':0       \n",
    "                }\n",
    "    try: \n",
    "        if matches['obs_log'][i] is not None:\n",
    "            cumulative = 0\n",
    "            for j in range(0, len(matches['obs_log'][i])):\n",
    "                for timeStamp in timeStamps:\n",
    "                    if matches['obs_log'][i][j]['time'] < int(timeStamp) * 60:\n",
    "                        varName = \"t_obs_cnt_\" + timeStamp\n",
    "                        obs_cnt[varName] += 1\n",
    "            obs_cnt['id'] = matches['id'][i]\n",
    "            obsRow = pd.DataFrame.from_dict(obs_cnt, orient = 'index').transpose()\n",
    "            obs = obs.append(obsRow, ignore_index=True)\n",
    "        else: print \"Line %s: Log does not exists\" %i\n",
    "    except Exception:\n",
    "        print \"Line %s: Unknown error\" %i"
   ]
  },
  {
   "cell_type": "code",
   "execution_count": 320,
   "metadata": {},
   "outputs": [
    {
     "name": "stdout",
     "output_type": "stream",
     "text": [
      "(1209, 106)\n"
     ]
    }
   ],
   "source": [
    "matches = matches.merge(obs, left_on='id', right_on='id', how='inner')\n",
    "print matches.shape"
   ]
  },
  {
   "cell_type": "markdown",
   "metadata": {},
   "source": [
    "# runes_log (Сделать разбиение по минутам!)"
   ]
  },
  {
   "cell_type": "code",
   "execution_count": 321,
   "metadata": {},
   "outputs": [],
   "source": [
    "timeStamps = [\n",
    "              '3',\n",
    "              '5',\n",
    "              '8',\n",
    "              '10',\n",
    "              '12',\n",
    "              '15',\n",
    "              '20',\n",
    "              '25',\n",
    "              '30'\n",
    "             ]\n",
    "runes_cnt = {\n",
    "                'id':0,\n",
    "                't_runes_cnt_3':0,\n",
    "                't_runes_cnt_5':0,\n",
    "                't_runes_cnt_8':0,\n",
    "                't_runes_cnt_10':0,\n",
    "                't_runes_cnt_12':0,\n",
    "                't_runes_cnt_15':0,\n",
    "                't_runes_cnt_20':0,\n",
    "                't_runes_cnt_25':0,\n",
    "                't_runes_cnt_30':0       \n",
    "                }\n",
    "\n",
    "runes = pd.DataFrame(columns = [key for key, value in runes_cnt.items()])\n",
    "\n",
    "for i in range(0, len(matches['runes_log'])):\n",
    "    runes_cnt = {\n",
    "                'id':0,\n",
    "                't_runes_cnt_3':0,\n",
    "                't_runes_cnt_5':0,\n",
    "                't_runes_cnt_8':0,\n",
    "                't_runes_cnt_10':0,\n",
    "                't_runes_cnt_12':0,\n",
    "                't_runes_cnt_15':0,\n",
    "                't_runes_cnt_20':0,\n",
    "                't_runes_cnt_25':0,\n",
    "                't_runes_cnt_30':0       \n",
    "                }\n",
    "    try:\n",
    "        if matches['runes_log'][i] is not None:\n",
    "            cumulative = 0\n",
    "            for j in range(0, len(matches['runes_log'][i])):\n",
    "                for timeStamp in timeStamps:\n",
    "                    if matches['runes_log'][i][j]['time'] < int(timeStamp) * 60:\n",
    "                        varName = \"t_runes_cnt_\" + timeStamp\n",
    "                        runes_cnt[varName] += 1\n",
    "            runes_cnt['id'] = matches['id'][i]\n",
    "            runesRow = pd.DataFrame.from_dict(runes_cnt, orient = 'index').transpose()\n",
    "            runes = runes.append(runesRow, ignore_index=True)\n",
    "        else: print \"Line %s: Log does not exists\" %i\n",
    "    except Exception:\n",
    "        print \"Line %s: Unknown error\" %i"
   ]
  },
  {
   "cell_type": "code",
   "execution_count": 322,
   "metadata": {},
   "outputs": [
    {
     "data": {
      "text/plain": [
       "(1209, 115)"
      ]
     },
     "execution_count": 322,
     "metadata": {},
     "output_type": "execute_result"
    }
   ],
   "source": [
    "matches = matches.merge(runes, left_on='id', right_on='id', how='inner')\n",
    "matches.shape  "
   ]
  },
  {
   "cell_type": "markdown",
   "metadata": {},
   "source": [
    "# buyback_log"
   ]
  },
  {
   "cell_type": "code",
   "execution_count": 323,
   "metadata": {},
   "outputs": [],
   "source": [
    "timeStamps = [\n",
    "              '3',\n",
    "              '5',\n",
    "              '8',\n",
    "              '10',\n",
    "              '12',\n",
    "              '15',\n",
    "              '20',\n",
    "              '25',\n",
    "              '30'\n",
    "             ]\n",
    "buyback_cnt = {\n",
    "                'id':0,\n",
    "                't_buyback_cnt_3':0,\n",
    "                't_buyback_cnt_5':0,\n",
    "                't_buyback_cnt_8':0,\n",
    "                't_buyback_cnt_10':0,\n",
    "                't_buyback_cnt_12':0,\n",
    "                't_buyback_cnt_15':0,\n",
    "                't_buyback_cnt_20':0,\n",
    "                't_buyback_cnt_25':0,\n",
    "                't_buyback_cnt_30':0       \n",
    "                }\n",
    "\n",
    "buyback = pd.DataFrame(columns = [key for key, value in buyback_cnt.items()])\n",
    "\n",
    "for i in range(0, len(matches['buyback_log'])):\n",
    "    buyback_cnt = {\n",
    "                'id':0,\n",
    "                't_buyback_cnt_3':0,\n",
    "                't_buyback_cnt_5':0,\n",
    "                't_buyback_cnt_8':0,\n",
    "                't_buyback_cnt_10':0,\n",
    "                't_buyback_cnt_12':0,\n",
    "                't_buyback_cnt_15':0,\n",
    "                't_buyback_cnt_20':0,\n",
    "                't_buyback_cnt_25':0,\n",
    "                't_buyback_cnt_30':0       \n",
    "                }\n",
    "    try: \n",
    "        if matches['buyback_log'][i] is not None:\n",
    "            cumulative = 0\n",
    "            for j in range(0, len(matches['buyback_log'][i])):\n",
    "                for timeStamp in timeStamps:\n",
    "                    varName = \"t_buyback_cnt_\" + timeStamp\n",
    "                    if matches['buyback_log'][i][j]['time'] < int(timeStamp) * 60:                    \n",
    "                        buyback_cnt[varName] += 1\n",
    "            buyback_cnt['id'] = matches['id'][i]\n",
    "            buybackRow = pd.DataFrame.from_dict(buyback_cnt, orient = 'index').transpose()\n",
    "            buyback = buyback.append(buybackRow, ignore_index=True)\n",
    "        else: print \"Line %s: Log does not exists\" %i\n",
    "    except Exception:\n",
    "        print \"Line %s: Unknown error\" %i"
   ]
  },
  {
   "cell_type": "code",
   "execution_count": 324,
   "metadata": {},
   "outputs": [
    {
     "data": {
      "text/plain": [
       "(1209, 124)"
      ]
     },
     "execution_count": 324,
     "metadata": {},
     "output_type": "execute_result"
    }
   ],
   "source": [
    "matches = matches.merge(buyback, left_on='id', right_on='id', how='inner')\n",
    "matches.shape"
   ]
  },
  {
   "cell_type": "markdown",
   "metadata": {},
   "source": [
    "# Hero statistics"
   ]
  },
  {
   "cell_type": "code",
   "execution_count": 331,
   "metadata": {
    "collapsed": true
   },
   "outputs": [],
   "source": [
    "urlHeroes = \"https://api.opendota.com/api/heroStats\""
   ]
  },
  {
   "cell_type": "code",
   "execution_count": 332,
   "metadata": {
    "collapsed": true
   },
   "outputs": [],
   "source": [
    "response = urllib2.urlopen(urlHeroes)\n",
    "jsonResponse = response.read()\n",
    "dictData = json.loads(jsonResponse)"
   ]
  },
  {
   "cell_type": "code",
   "execution_count": 333,
   "metadata": {
    "collapsed": true
   },
   "outputs": [],
   "source": [
    "heroesList = list()\n",
    "heroAttr = [\n",
    "            'id',\n",
    "            'localized_name', \n",
    "            'attack_type',\n",
    "            'pro_ban', \n",
    "            'pro_pick', \n",
    "            'pro_win', \n",
    "            'primary_attr', \n",
    "            'roles'\n",
    "            ]\n",
    "heroRolesList = [\n",
    "                'Carry',\n",
    "                'Disabler',\n",
    "                'Initiator',\n",
    "                'Jungler',\n",
    "                'Support',\n",
    "                'Durable',\n",
    "                'Nuker',\n",
    "                'Escape',\n",
    "                'Pusher'\n",
    "                ]\n",
    "\n",
    "for heroId in range(0, len(dictData) - 1):    \n",
    "    heroRaw = dict()\n",
    "    \n",
    "    for heroRole in heroRolesList:\n",
    "        heroRaw[heroRole] = 0\n",
    "    for key, value in dictData[heroId].iteritems():\n",
    "#         if key == 'id':\n",
    "#             matchesKey = 'hero_' + key\n",
    "#             heroRaw[matchesKey] = dictData[heroId][key]\n",
    "        if key in heroAttr:\n",
    "            heroRaw[key] = dictData[heroId][key]\n",
    "            if key == 'roles':\n",
    "                for heroRole in dictData[heroId][key]:\n",
    "                    heroRaw[heroRole] = 1\n",
    "    del heroRaw['roles']                \n",
    "    heroesList.append(heroRaw)"
   ]
  },
  {
   "cell_type": "code",
   "execution_count": 336,
   "metadata": {},
   "outputs": [
    {
     "name": "stdout",
     "output_type": "stream",
     "text": [
      "(112, 16)\n"
     ]
    },
    {
     "data": {
      "text/html": [
       "<div>\n",
       "<table border=\"1\" class=\"dataframe\">\n",
       "  <thead>\n",
       "    <tr style=\"text-align: right;\">\n",
       "      <th></th>\n",
       "      <th>Carry</th>\n",
       "      <th>Disabler</th>\n",
       "      <th>Durable</th>\n",
       "      <th>Escape</th>\n",
       "      <th>Initiator</th>\n",
       "      <th>Jungler</th>\n",
       "      <th>Nuker</th>\n",
       "      <th>Pusher</th>\n",
       "      <th>Support</th>\n",
       "      <th>attack_type</th>\n",
       "      <th>id</th>\n",
       "      <th>localized_name</th>\n",
       "      <th>primary_attr</th>\n",
       "      <th>pro_ban</th>\n",
       "      <th>pro_pick</th>\n",
       "      <th>pro_win</th>\n",
       "    </tr>\n",
       "  </thead>\n",
       "  <tbody>\n",
       "    <tr>\n",
       "      <th>0</th>\n",
       "      <td>1</td>\n",
       "      <td>0</td>\n",
       "      <td>0</td>\n",
       "      <td>1</td>\n",
       "      <td>0</td>\n",
       "      <td>0</td>\n",
       "      <td>1</td>\n",
       "      <td>0</td>\n",
       "      <td>0</td>\n",
       "      <td>Melee</td>\n",
       "      <td>1</td>\n",
       "      <td>Anti-Mage</td>\n",
       "      <td>agi</td>\n",
       "      <td>55.0</td>\n",
       "      <td>33.0</td>\n",
       "      <td>10.0</td>\n",
       "    </tr>\n",
       "    <tr>\n",
       "      <th>1</th>\n",
       "      <td>0</td>\n",
       "      <td>1</td>\n",
       "      <td>1</td>\n",
       "      <td>0</td>\n",
       "      <td>1</td>\n",
       "      <td>1</td>\n",
       "      <td>0</td>\n",
       "      <td>0</td>\n",
       "      <td>0</td>\n",
       "      <td>Melee</td>\n",
       "      <td>2</td>\n",
       "      <td>Axe</td>\n",
       "      <td>str</td>\n",
       "      <td>187.0</td>\n",
       "      <td>189.0</td>\n",
       "      <td>105.0</td>\n",
       "    </tr>\n",
       "    <tr>\n",
       "      <th>2</th>\n",
       "      <td>0</td>\n",
       "      <td>1</td>\n",
       "      <td>1</td>\n",
       "      <td>0</td>\n",
       "      <td>0</td>\n",
       "      <td>0</td>\n",
       "      <td>1</td>\n",
       "      <td>0</td>\n",
       "      <td>1</td>\n",
       "      <td>Ranged</td>\n",
       "      <td>3</td>\n",
       "      <td>Bane</td>\n",
       "      <td>int</td>\n",
       "      <td>2.0</td>\n",
       "      <td>19.0</td>\n",
       "      <td>10.0</td>\n",
       "    </tr>\n",
       "    <tr>\n",
       "      <th>3</th>\n",
       "      <td>1</td>\n",
       "      <td>1</td>\n",
       "      <td>0</td>\n",
       "      <td>0</td>\n",
       "      <td>1</td>\n",
       "      <td>1</td>\n",
       "      <td>1</td>\n",
       "      <td>0</td>\n",
       "      <td>0</td>\n",
       "      <td>Melee</td>\n",
       "      <td>4</td>\n",
       "      <td>Bloodseeker</td>\n",
       "      <td>agi</td>\n",
       "      <td>7.0</td>\n",
       "      <td>16.0</td>\n",
       "      <td>6.0</td>\n",
       "    </tr>\n",
       "    <tr>\n",
       "      <th>4</th>\n",
       "      <td>0</td>\n",
       "      <td>1</td>\n",
       "      <td>0</td>\n",
       "      <td>0</td>\n",
       "      <td>0</td>\n",
       "      <td>1</td>\n",
       "      <td>1</td>\n",
       "      <td>0</td>\n",
       "      <td>1</td>\n",
       "      <td>Ranged</td>\n",
       "      <td>5</td>\n",
       "      <td>Crystal Maiden</td>\n",
       "      <td>int</td>\n",
       "      <td>51.0</td>\n",
       "      <td>339.0</td>\n",
       "      <td>192.0</td>\n",
       "    </tr>\n",
       "  </tbody>\n",
       "</table>\n",
       "</div>"
      ],
      "text/plain": [
       "   Carry  Disabler  Durable  Escape  Initiator  Jungler  Nuker  Pusher  \\\n",
       "0      1         0        0       1          0        0      1       0   \n",
       "1      0         1        1       0          1        1      0       0   \n",
       "2      0         1        1       0          0        0      1       0   \n",
       "3      1         1        0       0          1        1      1       0   \n",
       "4      0         1        0       0          0        1      1       0   \n",
       "\n",
       "   Support attack_type  id  localized_name primary_attr  pro_ban  pro_pick  \\\n",
       "0        0       Melee   1       Anti-Mage          agi     55.0      33.0   \n",
       "1        0       Melee   2             Axe          str    187.0     189.0   \n",
       "2        1      Ranged   3            Bane          int      2.0      19.0   \n",
       "3        0       Melee   4     Bloodseeker          agi      7.0      16.0   \n",
       "4        1      Ranged   5  Crystal Maiden          int     51.0     339.0   \n",
       "\n",
       "   pro_win  \n",
       "0     10.0  \n",
       "1    105.0  \n",
       "2     10.0  \n",
       "3      6.0  \n",
       "4    192.0  "
      ]
     },
     "execution_count": 336,
     "metadata": {},
     "output_type": "execute_result"
    }
   ],
   "source": [
    "heroes = pd.DataFrame(heroesList)\n",
    "print heroes.shape\n",
    "heroes.head()"
   ]
  },
  {
   "cell_type": "code",
   "execution_count": null,
   "metadata": {
    "collapsed": true
   },
   "outputs": [],
   "source": []
  }
 ],
 "metadata": {
  "anaconda-cloud": {},
  "kernelspec": {
   "display_name": "Python [default]",
   "language": "python",
   "name": "python2"
  },
  "language_info": {
   "codemirror_mode": {
    "name": "ipython",
    "version": 2
   },
   "file_extension": ".py",
   "mimetype": "text/x-python",
   "name": "python",
   "nbconvert_exporter": "python",
   "pygments_lexer": "ipython2",
   "version": "2.7.12"
  }
 },
 "nbformat": 4,
 "nbformat_minor": 1
}
